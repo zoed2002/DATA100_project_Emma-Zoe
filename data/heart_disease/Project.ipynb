{
 "cells": [
  {
   "cell_type": "markdown",
   "id": "8f52c9b7-8421-4375-80a6-72605090c0c4",
   "metadata": {},
   "source": [
    "Title:"
   ]
  },
  {
   "cell_type": "code",
   "execution_count": null,
   "id": "b1a59f62-54d5-4999-bece-0d0fcc92fb30",
   "metadata": {},
   "outputs": [],
   "source": [
    "Introduction:"
   ]
  },
  {
   "cell_type": "code",
   "execution_count": null,
   "id": "ae88c236-d89e-4c0e-af29-6feaea513ecb",
   "metadata": {},
   "outputs": [],
   "source": [
    "Preliminary exploratory data analysis:"
   ]
  },
  {
   "cell_type": "code",
   "execution_count": null,
   "id": "a83f8009-1dfb-496b-ab8a-1fc6ef49150e",
   "metadata": {},
   "outputs": [],
   "source": [
    "Methods:"
   ]
  },
  {
   "cell_type": "code",
   "execution_count": null,
   "id": "9ee90257-0b0e-482e-b875-459624a9d429",
   "metadata": {},
   "outputs": [],
   "source": [
    "Expected outcomes and significance:\n",
    "What do you expect to find?\n",
    "What impact could such findings have?\n",
    "What future questions could this lead to?"
   ]
  }
 ],
 "metadata": {
  "kernelspec": {
   "display_name": "R",
   "language": "R",
   "name": "ir"
  },
  "language_info": {
   "codemirror_mode": "r",
   "file_extension": ".r",
   "mimetype": "text/x-r-source",
   "name": "R",
   "pygments_lexer": "r",
   "version": "4.3.1"
  }
 },
 "nbformat": 4,
 "nbformat_minor": 5
}
